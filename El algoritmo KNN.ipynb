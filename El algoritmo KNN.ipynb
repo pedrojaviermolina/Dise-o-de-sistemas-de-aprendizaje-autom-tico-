{
 "cells": [
  {
   "cell_type": "code",
   "execution_count": null,
   "id": "1ce5dadf",
   "metadata": {},
   "outputs": [],
   "source": [
    "#definir las probalilidades condicionales de los sintomas del covid"
   ]
  },
  {
   "cell_type": "code",
   "execution_count": 3,
   "id": "3f583db8",
   "metadata": {},
   "outputs": [],
   "source": [
    "p_fatiga_covid = 0.40\n",
    "p_tos_seca = 0.60\n",
    "p_dificultad_respirar = 0.30\n",
    "p_dolor_garganta = 0.50\n",
    "p_dolor_cabeza = 0.60\n",
    "p_dolor_cuerpo = 0.70\n",
    "p_escalofrios = 0.60\n",
    "p_secrecion_nasal = 0.40\n",
    "p_perdida_olfato = 0.80\n",
    "p_fiebre = 0.40\n",
    "p_dolor_pecho = 0.80\n",
    "\n",
    "p_covid = 0.05\n"
   ]
  },
  {
   "cell_type": "code",
   "execution_count": 4,
   "id": "feaefd4d",
   "metadata": {},
   "outputs": [],
   "source": [
    "#sintomas en los pacientes\n",
    "sintomas = ['fatiga', 'tos seca', 'Dificultad para respirar', 'Dolor de garganta', 'Dolor de cabeza', 'Dolor en el cuerpo', 'Escalofríos', 'Secreción nasal', 'Pérdida del sentido del olfato o del gusto', 'Fiebre', 'Dolor de pecho']"
   ]
  },
  {
   "cell_type": "code",
   "execution_count": 5,
   "id": "35acf64b",
   "metadata": {},
   "outputs": [],
   "source": [
    "#calcular la probabilidad que el paciente tenga covid\n",
    "p_sintomas_covid = p_fatiga_covid * p_tos_seca * p_dificultad_respirar *\\\n",
    "p_dolor_garganta * p_dolor_cabeza * p_dolor_cuerpo *\\\n",
    "p_escalofrios * p_secrecion_nasal * p_perdida_olfato *\\\n",
    "p_fiebre * p_dolor_pecho\n"
   ]
  },
  {
   "cell_type": "code",
   "execution_count": 18,
   "id": "d6d652f2",
   "metadata": {},
   "outputs": [],
   "source": [
    "p_sintomas_no_covid = 0.05 ** 1\n",
    "p_sintomas = p_sintomas_covid * p_covid * p_sintomas_no_covid * (1 -p_covid)\n"
   ]
  },
  {
   "cell_type": "code",
   "execution_count": 19,
   "id": "e5c7f7be",
   "metadata": {},
   "outputs": [
    {
     "name": "stdout",
     "output_type": "stream",
     "text": [
      "la probalilidad de que el paciente tenga covid es 21.052631578947366\n"
     ]
    }
   ],
   "source": [
    "\n",
    "p_covid_sintomas = p_sintomas_covid * p_covid / p_sintomas\n",
    "\n",
    "print(f\"la probalilidad de que el paciente tenga covid es {p_covid_sintomas}\")\n"
   ]
  }
 ],
 "metadata": {
  "kernelspec": {
   "display_name": "Python 3 (ipykernel)",
   "language": "python",
   "name": "python3"
  },
  "language_info": {
   "codemirror_mode": {
    "name": "ipython",
    "version": 3
   },
   "file_extension": ".py",
   "mimetype": "text/x-python",
   "name": "python",
   "nbconvert_exporter": "python",
   "pygments_lexer": "ipython3",
   "version": "3.9.7"
  }
 },
 "nbformat": 4,
 "nbformat_minor": 5
}
